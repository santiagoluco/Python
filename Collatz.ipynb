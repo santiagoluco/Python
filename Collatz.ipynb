{
 "cells": [
  {
   "cell_type": "code",
   "execution_count": 57,
   "id": "1fb4e7ee",
   "metadata": {},
   "outputs": [],
   "source": [
    "def collatz(n):\n",
    "\n",
    "    global mylist\n",
    "    mylist = []\n",
    "    \n",
    "    while n > 1:\n",
    "        mylist.append(int(n))\n",
    "        if (n%2):\n",
    "            n = 3 * n + 1\n",
    "        else:\n",
    "            n = n / 2\n",
    "    mylist.append(1)\n",
    "    \n",
    "    print(mylist)\n",
    "    return mylist"
   ]
  },
  {
   "cell_type": "code",
   "execution_count": 63,
   "id": "e4f3a6d8",
   "metadata": {},
   "outputs": [],
   "source": [
    "def num_integer():\n",
    "\n",
    "    from IPython.display import clear_output\n",
    "    \n",
    "    num_not_int = True\n",
    "    \n",
    "    while num_not_int:\n",
    "\n",
    "        # Enter a number (integer)\n",
    "        try:\n",
    "            num = int(input('Please enter an integer :'))\n",
    "        except:\n",
    "            print('Try again, you should enter an integer...')\n",
    "        else:\n",
    "            num_not_int = False\n",
    "        \n",
    "        clear_output()\n",
    "        \n",
    "        print('The Collatz values are these:')\n",
    "        print('')\n",
    "        \n",
    "    return num"
   ]
  },
  {
   "cell_type": "code",
   "execution_count": 61,
   "id": "6f4dd218",
   "metadata": {},
   "outputs": [],
   "source": [
    "def report_collatz(mylist):\n",
    "    \n",
    "    print('')\n",
    "    print('\\tREPORT')\n",
    "    print('\\tThe highest value of the list is ' + str(max(mylist)))\n",
    "    print('\\tThe value one was achieved after ' + str(len(mylist)) + ' items')"
   ]
  },
  {
   "cell_type": "code",
   "execution_count": 64,
   "id": "ab00af3a",
   "metadata": {},
   "outputs": [
    {
     "name": "stdout",
     "output_type": "stream",
     "text": [
      "The Collatz values are these:\n",
      "\n",
      "[10, 5, 16, 8, 4, 2, 1]\n",
      "\n",
      "\tREPORT\n",
      "\tThe highest value of the list is 16\n",
      "\tThe value one was achieved after 7 items\n"
     ]
    }
   ],
   "source": [
    "# PROGRAM\n",
    "report_collatz(collatz(num_integer()))"
   ]
  }
 ],
 "metadata": {
  "kernelspec": {
   "display_name": "Python 3 (ipykernel)",
   "language": "python",
   "name": "python3"
  },
  "language_info": {
   "codemirror_mode": {
    "name": "ipython",
    "version": 3
   },
   "file_extension": ".py",
   "mimetype": "text/x-python",
   "name": "python",
   "nbconvert_exporter": "python",
   "pygments_lexer": "ipython3",
   "version": "3.9.12"
  }
 },
 "nbformat": 4,
 "nbformat_minor": 5
}
